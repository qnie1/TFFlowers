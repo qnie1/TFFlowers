{
 "cells": [
  {
   "cell_type": "code",
   "execution_count": 1,
   "metadata": {},
   "outputs": [
    {
     "name": "stderr",
     "output_type": "stream",
     "text": [
      "Using TensorFlow backend.\n"
     ]
    },
    {
     "name": "stdout",
     "output_type": "stream",
     "text": [
      "2.2.2\n"
     ]
    }
   ],
   "source": [
    "import numpy as np\n",
    "import pandas as pd\n",
    "import keras\n",
    "print(keras.__version__)"
   ]
  },
  {
   "cell_type": "code",
   "execution_count": 2,
   "metadata": {},
   "outputs": [],
   "source": [
    "from keras.applications.resnet50 import ResNet50\n",
    "from keras.preprocessing import image\n",
    "from keras.applications.resnet50 import preprocess_input, decode_predictions\n",
    "import os"
   ]
  },
  {
   "cell_type": "markdown",
   "metadata": {},
   "source": [
    "# Split in training and test folder"
   ]
  },
  {
   "cell_type": "markdown",
   "metadata": {},
   "source": [
    "## Create folders"
   ]
  },
  {
   "cell_type": "code",
   "execution_count": 19,
   "metadata": {},
   "outputs": [],
   "source": [
    "def safefoldercreation(name, path='.'):\n",
    "    try:\n",
    "        os.mkdir(os.path.join(path, name))\n",
    "        print(folder, 'created')\n",
    "    except:\n",
    "        print(folder, 'already existing')\n"
   ]
  },
  {
   "cell_type": "code",
   "execution_count": 20,
   "metadata": {},
   "outputs": [
    {
     "name": "stdout",
     "output_type": "stream",
     "text": [
      "test already existing\n",
      "train already existing\n"
     ]
    }
   ],
   "source": [
    "folderstructure = ['test', 'train']\n",
    "for folder in folderstructure:\n",
    "    safefoldercreation(folder)"
   ]
  },
  {
   "cell_type": "markdown",
   "metadata": {},
   "source": [
    "## Re-arrangement"
   ]
  },
  {
   "cell_type": "code",
   "execution_count": 6,
   "metadata": {},
   "outputs": [],
   "source": [
    "folderlist = ['daisy', 'dandelion', 'sunflower', 'tulip']"
   ]
  },
  {
   "cell_type": "code",
   "execution_count": 7,
   "metadata": {},
   "outputs": [
    {
     "name": "stdout",
     "output_type": "stream",
     "text": [
      "daisy - 633 pictures\n",
      "dandelion - 898 pictures\n",
      "sunflower - 699 pictures\n",
      "tulip - 799 pictures\n"
     ]
    }
   ],
   "source": [
    "pictureclass = {}\n",
    "for folder in folderlist:\n",
    "    pictureclass[folder] = [x for x in os.listdir(folder) if x.endswith('.jpg')]\n",
    "    print('{} - {} pictures'.format(folder, len(pictureclass[folder])))\n",
    "    "
   ]
  },
  {
   "cell_type": "code",
   "execution_count": 25,
   "metadata": {},
   "outputs": [
    {
     "name": "stdout",
     "output_type": "stream",
     "text": [
      "dandelion trainsize= 601\n",
      "test already existing\n",
      "train already existing\n",
      "sunflower trainsize= 468\n",
      "test already existing\n",
      "train already existing\n",
      "daisy trainsize= 424\n",
      "test already existing\n",
      "train already existing\n",
      "tulip trainsize= 535\n",
      "test already existing\n",
      "train already existing\n"
     ]
    }
   ],
   "source": [
    "from sklearn.model_selection import train_test_split\n",
    "from shutil import copyfile\n",
    "\n",
    "for flowerclass in pictureclass.keys():\n",
    "    trainlist = train_test_split(pictureclass[flowerclass], test_size=0.33, random_state=42)[0]\n",
    "    print(flowerclass, 'trainsize=', len(trainlist))\n",
    "    \n",
    "    for folder in folderstructure:\n",
    "        safefoldercreation(flowerclass, folder)\n",
    "    \n",
    "    for file in pictureclass[flowerclass]:\n",
    "        if file in trainlist:\n",
    "            folderserie = 'train' \n",
    "        else:\n",
    "            folderserie = 'test'\n",
    "        copyfile(os.path.join(flowerclass, file), os.path.join(folderserie, flowerclass, file))"
   ]
  },
  {
   "cell_type": "markdown",
   "metadata": {},
   "source": [
    "# Datagenerator creation"
   ]
  },
  {
   "cell_type": "code",
   "execution_count": 3,
   "metadata": {},
   "outputs": [],
   "source": [
    "image_size = 224\n",
    "num_class = 4\n",
    "batch_size = 32\n",
    "num_channels = 3\n",
    "train_data_dir = 'train'\n",
    "validation_data_dir = 'test'"
   ]
  },
  {
   "cell_type": "code",
   "execution_count": 4,
   "metadata": {},
   "outputs": [
    {
     "name": "stdout",
     "output_type": "stream",
     "text": [
      "Found 2028 images belonging to 4 classes.\n",
      "Found 1001 images belonging to 4 classes.\n"
     ]
    }
   ],
   "source": [
    "from keras.preprocessing.image import ImageDataGenerator\n",
    "train_datagen = ImageDataGenerator(#rotation_range=40,\n",
    "                                   #shear_range=0.2,\n",
    "                                   #channel_shift_range=20,\n",
    "                                   #width_shift_range=0.2,\n",
    "                                   #height_shift_range=0.2,\n",
    "                                   #zoom_range=0.2,\n",
    "                                   #horizontal_flip=True,\n",
    "                                   #rescale=1./255,\n",
    "                                    )\n",
    "\n",
    "test_datagen = ImageDataGenerator() #rescale=1./255\n",
    "\n",
    "train_generator = train_datagen.flow_from_directory(train_data_dir,\n",
    "                                                    target_size=(image_size,image_size),\n",
    "                                                    class_mode='categorical',\n",
    "                                                    batch_size=batch_size)\n",
    "\n",
    "validation_generator = test_datagen.flow_from_directory(validation_data_dir, \n",
    "                                                        target_size=(image_size,image_size),\n",
    "                                                        class_mode='categorical',\n",
    "                                                        batch_size=batch_size)"
   ]
  },
  {
   "cell_type": "markdown",
   "metadata": {},
   "source": [
    "# Transfer learning - Bottlneck"
   ]
  },
  {
   "cell_type": "code",
   "execution_count": 5,
   "metadata": {},
   "outputs": [],
   "source": [
    "from keras.utils.np_utils import to_categorical\n",
    "from keras.models import Sequential, Model"
   ]
  },
  {
   "cell_type": "code",
   "execution_count": 6,
   "metadata": {},
   "outputs": [
    {
     "name": "stderr",
     "output_type": "stream",
     "text": [
      "C:\\Users\\student\\Anaconda3\\envs\\tensorflow\\lib\\site-packages\\keras_applications\\resnet50.py:263: UserWarning: The output shape of `ResNet50(include_top=False)` has been changed since Keras 2.2.0.\n",
      "  warnings.warn('The output shape of `ResNet50(include_top=False)` '\n"
     ]
    }
   ],
   "source": [
    "tr_model=ResNet50(include_top=False,\n",
    "                  weights='imagenet',\n",
    "                 input_shape = (224, 224, 3),\n",
    "                 ) #\n",
    "#tr_model.summary()"
   ]
  },
  {
   "cell_type": "code",
   "execution_count": 7,
   "metadata": {},
   "outputs": [],
   "source": [
    "from keras.preprocessing.image import ImageDataGenerator\n",
    "datagen = ImageDataGenerator(preprocessing_function=preprocess_input) #rescale=1. / 255"
   ]
  },
  {
   "cell_type": "code",
   "execution_count": 8,
   "metadata": {},
   "outputs": [
    {
     "name": "stdout",
     "output_type": "stream",
     "text": [
      "Found 2028 images belonging to 4 classes.\n"
     ]
    }
   ],
   "source": [
    "# training set\n",
    "train_generator = datagen.flow_from_directory(train_data_dir,\n",
    "                                                    target_size=(image_size,image_size),\n",
    "                                                    class_mode=None,\n",
    "                                                    batch_size=batch_size,\n",
    "                                                    shuffle=False)\n",
    "\n",
    "bottleneck_features_train = tr_model.predict_generator(train_generator)\n",
    "train_labels = to_categorical(train_generator.classes , num_classes=num_class)"
   ]
  },
  {
   "cell_type": "code",
   "execution_count": 9,
   "metadata": {},
   "outputs": [
    {
     "name": "stdout",
     "output_type": "stream",
     "text": [
      "Found 1001 images belonging to 4 classes.\n"
     ]
    }
   ],
   "source": [
    "# Validation set\n",
    "validation_generator = datagen.flow_from_directory(validation_data_dir, \n",
    "                                                        target_size=(image_size,image_size),\n",
    "                                                        class_mode=None,\n",
    "                                                        batch_size=batch_size,\n",
    "                                                       shuffle=False)\n",
    "\n",
    "bottleneck_features_validation = tr_model.predict_generator(validation_generator)\n",
    "validation_labels = to_categorical(validation_generator.classes, num_classes=num_class)"
   ]
  },
  {
   "cell_type": "code",
   "execution_count": 10,
   "metadata": {},
   "outputs": [
    {
     "name": "stdout",
     "output_type": "stream",
     "text": [
      "(2028, 7, 7, 2048)\n",
      "(1001, 7, 7, 2048)\n"
     ]
    }
   ],
   "source": [
    "print(bottleneck_features_train.shape)\n",
    "print(bottleneck_features_validation.shape)"
   ]
  },
  {
   "cell_type": "code",
   "execution_count": 12,
   "metadata": {},
   "outputs": [
    {
     "name": "stdout",
     "output_type": "stream",
     "text": [
      "(2028, 4)\n",
      "(1001, 4)\n"
     ]
    }
   ],
   "source": [
    "print(train_labels.shape)\n",
    "print(validation_labels.shape)"
   ]
  },
  {
   "cell_type": "markdown",
   "metadata": {},
   "source": [
    "## Model creation"
   ]
  },
  {
   "cell_type": "code",
   "execution_count": 13,
   "metadata": {},
   "outputs": [
    {
     "name": "stdout",
     "output_type": "stream",
     "text": [
      "_________________________________________________________________\n",
      "Layer (type)                 Output Shape              Param #   \n",
      "=================================================================\n",
      "flatten_1 (Flatten)          (None, 100352)            0         \n",
      "_________________________________________________________________\n",
      "pred (Dense)                 (None, 4)                 401412    \n",
      "=================================================================\n",
      "Total params: 401,412\n",
      "Trainable params: 401,412\n",
      "Non-trainable params: 0\n",
      "_________________________________________________________________\n"
     ]
    }
   ],
   "source": [
    "from keras.layers import GlobalAveragePooling2D\n",
    "from keras.layers import Dense, Dropout, Flatten, Activation, BatchNormalization, regularizers\n",
    "model = Sequential()\n",
    "model.add(Flatten(input_shape=bottleneck_features_train.shape[1:]))\n",
    "#model.add(Dense(1024, activation='relu'))\n",
    "\n",
    "#model.add(BatchNormalization())\n",
    "#model.add(Dropout(0.85))\n",
    "\n",
    "model.add(Dense(num_class, activation='softmax', name='pred'))\n",
    "\n",
    "model.compile(optimizer='adam',\n",
    "              loss='categorical_crossentropy',\n",
    "              metrics=['accuracy'])\n",
    "model.summary()"
   ]
  },
  {
   "cell_type": "code",
   "execution_count": 14,
   "metadata": {},
   "outputs": [],
   "source": [
    "# Early stop\n",
    "from keras.callbacks import ModelCheckpoint, LearningRateScheduler, TensorBoard, EarlyStopping\n",
    "early = EarlyStopping(monitor='val_acc', min_delta=0, patience=3, verbose=1, mode='auto')"
   ]
  },
  {
   "cell_type": "code",
   "execution_count": 15,
   "metadata": {},
   "outputs": [
    {
     "name": "stdout",
     "output_type": "stream",
     "text": [
      "Train on 2028 samples, validate on 1001 samples\n",
      "Epoch 1/15\n",
      "2028/2028 [==============================] - 3s 1ms/step - loss: 4.5673 - acc: 0.6696 - val_loss: 4.2294 - val_acc: 0.7203\n",
      "Epoch 2/15\n",
      "2028/2028 [==============================] - 2s 1ms/step - loss: 3.8846 - acc: 0.7470 - val_loss: 4.0759 - val_acc: 0.7283\n",
      "Epoch 3/15\n",
      "2028/2028 [==============================] - 2s 1ms/step - loss: 3.1577 - acc: 0.7934 - val_loss: 1.7747 - val_acc: 0.8611\n",
      "Epoch 4/15\n",
      "2028/2028 [==============================] - 2s 1ms/step - loss: 1.3114 - acc: 0.9043 - val_loss: 1.1972 - val_acc: 0.9091\n",
      "Epoch 5/15\n",
      "2028/2028 [==============================] - 2s 1ms/step - loss: 0.8286 - acc: 0.9384 - val_loss: 1.4348 - val_acc: 0.8951\n",
      "Epoch 6/15\n",
      "2028/2028 [==============================] - 2s 1ms/step - loss: 0.7010 - acc: 0.9472 - val_loss: 1.4438 - val_acc: 0.8931\n",
      "Epoch 7/15\n",
      "2028/2028 [==============================] - 2s 1ms/step - loss: 0.6175 - acc: 0.9546 - val_loss: 1.2915 - val_acc: 0.9051\n",
      "Epoch 00007: early stopping\n"
     ]
    }
   ],
   "source": [
    "history = model.fit(bottleneck_features_train, train_labels,\n",
    "          epochs=15,\n",
    "          batch_size=batch_size,\n",
    "          validation_data=(bottleneck_features_validation, validation_labels),\n",
    "                   callbacks = [early])"
   ]
  },
  {
   "cell_type": "code",
   "execution_count": 18,
   "metadata": {},
   "outputs": [
    {
     "data": {
      "image/png": "[encoded data removed]",
      "text/plain": [
       "<Figure size 432x288 with 1 Axes>"
      ]
     },
     "metadata": {
      "needs_background": "light"
     },
     "output_type": "display_data"
    }
   ],
   "source": [
    "import matplotlib.pyplot as plt\n",
    "import numpy\n",
    "\n",
    "# summarize history for accuracy\n",
    "plt.plot(history.history['acc'])\n",
    "plt.plot(history.history['val_acc'])\n",
    "plt.title('model accuracy')\n",
    "plt.ylabel('accuracy')\n",
    "plt.xlabel('epoch')\n",
    "plt.legend(['train', 'test'], loc='upper left')\n",
    "plt.show()"
   ]
  },
  {
   "cell_type": "code",
   "execution_count": 17,
   "metadata": {},
   "outputs": [
    {
     "data": {
      "image/png": "[encoded data removed]",
      "text/plain": [
       "<Figure size 432x288 with 1 Axes>"
      ]
     },
     "metadata": {
      "needs_background": "light"
     },
     "output_type": "display_data"
    }
   ],
   "source": [
    "# summarize history for loss\n",
    "plt.plot(history.history['loss'])\n",
    "plt.plot(history.history['val_loss'])\n",
    "plt.title('model loss')\n",
    "plt.ylabel('loss')\n",
    "plt.xlabel('epoch')\n",
    "plt.legend(['train', 'test'], loc='upper left')\n",
    "plt.show()"
   ]
  },
  {
   "cell_type": "code",
   "execution_count": null,
   "metadata": {},
   "outputs": [],
   "source": []
  }
 ],
 "metadata": {
  "kernelspec": {
   "display_name": "Python 3",
   "language": "python",
   "name": "python3"
  },
  "language_info": {
   "codemirror_mode": {
    "name": "ipython",
    "version": 3
   },
   "file_extension": ".py",
   "mimetype": "text/x-python",
   "name": "python",
   "nbconvert_exporter": "python",
   "pygments_lexer": "ipython3",
   "version": "3.5.6"
  }
 },
 "nbformat": 4,
 "nbformat_minor": 2
}
